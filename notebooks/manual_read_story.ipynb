{
 "cells": [
  {
   "cell_type": "code",
   "execution_count": null,
   "id": "0c9a2e1e",
   "metadata": {},
   "outputs": [],
   "source": [
    "from pathlib import Path\n",
    "from analink.core.story_engine import StoryEngine\n",
    "from analink.core.parser import clean_lines\n",
    "from analink.parser.graph_story import parse_story"
   ]
  },
  {
   "cell_type": "code",
   "execution_count": null,
   "id": "c22d372c",
   "metadata": {},
   "outputs": [],
   "source": [
    "FILE_PATH = Path.cwd()/\"test_data\"/\"documentation_data\"/\"025.ink\""
   ]
  },
  {
   "cell_type": "code",
   "execution_count": null,
   "id": "dd4c344e",
   "metadata": {},
   "outputs": [],
   "source": [
    "with open(FILE_PATH, \"r\") as f:\n",
    "    ink_code = f.read()"
   ]
  },
  {
   "cell_type": "code",
   "execution_count": null,
   "id": "5bfc73ea",
   "metadata": {},
   "outputs": [],
   "source": [
    "raw_story = clean_lines(ink_code)"
   ]
  },
  {
   "cell_type": "code",
   "execution_count": null,
   "id": "5a847ce5",
   "metadata": {},
   "outputs": [],
   "source": [
    "ink_code"
   ]
  },
  {
   "cell_type": "code",
   "execution_count": null,
   "id": "612a3b7f",
   "metadata": {},
   "outputs": [],
   "source": [
    "raw_story.knots[2].header"
   ]
  },
  {
   "cell_type": "code",
   "execution_count": null,
   "id": "50cc1356",
   "metadata": {},
   "outputs": [],
   "source": [
    "nodes, edges = parse_story(raw_story)"
   ]
  },
  {
   "cell_type": "code",
   "execution_count": null,
   "id": "14b04422",
   "metadata": {},
   "outputs": [],
   "source": [
    "edges"
   ]
  },
  {
   "cell_type": "code",
   "execution_count": null,
   "id": "f33128fc",
   "metadata": {},
   "outputs": [],
   "source": [
    "nodes"
   ]
  },
  {
   "cell_type": "code",
   "execution_count": null,
   "id": "d28f31fc",
   "metadata": {},
   "outputs": [],
   "source": [
    "story_engine= StoryEngine(ink_code)"
   ]
  },
  {
   "cell_type": "code",
   "execution_count": null,
   "id": "8d811f7f",
   "metadata": {},
   "outputs": [],
   "source": [
    "story_engine.start_story()"
   ]
  },
  {
   "cell_type": "code",
   "execution_count": null,
   "id": "422d434a",
   "metadata": {},
   "outputs": [],
   "source": [
    "story_engine.container_states"
   ]
  },
  {
   "cell_type": "code",
   "execution_count": null,
   "id": "cbc839d5",
   "metadata": {},
   "outputs": [],
   "source": [
    "story_engine.get_available_choices()"
   ]
  },
  {
   "cell_type": "code",
   "execution_count": null,
   "id": "f75d5e14",
   "metadata": {},
   "outputs": [],
   "source": [
    "story_engine.make_choice(story_engine.get_available_choices()[0])"
   ]
  },
  {
   "cell_type": "code",
   "execution_count": null,
   "id": "1948b54a",
   "metadata": {},
   "outputs": [],
   "source": [
    "story_engine.container_states"
   ]
  },
  {
   "cell_type": "code",
   "execution_count": null,
   "id": "794c85e3",
   "metadata": {},
   "outputs": [],
   "source": [
    "story_engine.get_available_choices()"
   ]
  },
  {
   "cell_type": "code",
   "execution_count": null,
   "id": "1cd60436",
   "metadata": {},
   "outputs": [],
   "source": []
  },
  {
   "cell_type": "code",
   "execution_count": null,
   "id": "2aceb125",
   "metadata": {},
   "outputs": [],
   "source": [
    "from analink.core.line_parser import extract_condition_from_line"
   ]
  },
  {
   "cell_type": "code",
   "execution_count": null,
   "id": "6c597399",
   "metadata": {},
   "outputs": [],
   "source": [
    "extract_condition_from_line(\"+ {paris} [Return to Paris] -> paris\")"
   ]
  },
  {
   "cell_type": "code",
   "execution_count": null,
   "id": "004a685d",
   "metadata": {},
   "outputs": [],
   "source": []
  }
 ],
 "metadata": {
  "kernelspec": {
   "display_name": "analink-GlLIutIp-py3.13",
   "language": "python",
   "name": "python3"
  },
  "language_info": {
   "codemirror_mode": {
    "name": "ipython",
    "version": 3
   },
   "file_extension": ".py",
   "mimetype": "text/x-python",
   "name": "python",
   "nbconvert_exporter": "python",
   "pygments_lexer": "ipython3",
   "version": "3.13.4"
  }
 },
 "nbformat": 4,
 "nbformat_minor": 5
}