{
 "cells": [
  {
   "cell_type": "code",
   "execution_count": null,
   "id": "2a93c584",
   "metadata": {},
   "outputs": [],
   "source": [
    "from analink.core.story_engine import StoryEngine\n",
    "from pathlib import Path\n",
    "import os"
   ]
  },
  {
   "cell_type": "code",
   "execution_count": null,
   "id": "a3f463a5",
   "metadata": {},
   "outputs": [],
   "source": [
    "INK_DATA = Path.cwd().resolve()/\"test_data\"/\"documentation_data\"\n",
    "ink_files = [file_name for file_name in os.listdir(INK_DATA) if file_name.endswith(\".ink\")]\n",
    "mermaid_files = [file_name for file_name in os.listdir(INK_DATA) if file_name.endswith(\".mermaid\")]"
   ]
  },
  {
   "cell_type": "markdown",
   "id": "d4cc7299",
   "metadata": {},
   "source": [
    "CHECKED TILL 021 , ie till [HERE](https://github.com/inkle/ink/blob/master/Documentation/WritingWithInk.md#7-varying-choices)"
   ]
  },
  {
   "cell_type": "code",
   "execution_count": null,
   "id": "b3ed42e9",
   "metadata": {},
   "outputs": [],
   "source": [
    "for ink_file in ink_files:\n",
    "    story_engine = StoryEngine.from_file(INK_DATA/ink_file)\n",
    "    mermaid_file = INK_DATA/ink_file.replace(\".ink\",\".mermaid\")\n",
    "    if mermaid_file.exists():\n",
    "        with open(mermaid_file, \"r\") as f:\n",
    "            data = f.read()\n",
    "        assert story_engine.to_mermaid() == data, f\"ERROR FOR {ink_file}\"\n",
    "    else:\n",
    "        with open(mermaid_file, \"w\") as f:\n",
    "            f.write(story_engine.to_mermaid())"
   ]
  },
  {
   "cell_type": "code",
   "execution_count": null,
   "id": "97da6b6e",
   "metadata": {},
   "outputs": [],
   "source": []
  }
 ],
 "metadata": {
  "kernelspec": {
   "display_name": "analink-GlLIutIp-py3.13",
   "language": "python",
   "name": "python3"
  },
  "language_info": {
   "codemirror_mode": {
    "name": "ipython",
    "version": 3
   },
   "file_extension": ".py",
   "mimetype": "text/x-python",
   "name": "python",
   "nbconvert_exporter": "python",
   "pygments_lexer": "ipython3",
   "version": "3.13.4"
  }
 },
 "nbformat": 4,
 "nbformat_minor": 5
}