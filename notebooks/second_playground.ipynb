{
 "cells": [
  {
   "cell_type": "markdown",
   "id": "5d683bf6",
   "metadata": {},
   "source": [
    "This file is just here to play and prepare the test, do not care about the content"
   ]
  },
  {
   "cell_type": "code",
   "execution_count": null,
   "id": "7cfd73f3",
   "metadata": {},
   "outputs": [],
   "source": [
    "from analink.parser.base import Container"
   ]
  },
  {
   "cell_type": "code",
   "execution_count": null,
   "id": "cea8f42f",
   "metadata": {},
   "outputs": [],
   "source": [
    "a=Container(content=\"a\")"
   ]
  },
  {
   "cell_type": "code",
   "execution_count": null,
   "id": "42fa687c",
   "metadata": {},
   "outputs": [],
   "source": [
    "a"
   ]
  },
  {
   "cell_type": "code",
   "execution_count": null,
   "id": "757a9a8d",
   "metadata": {},
   "outputs": [],
   "source": [
    "a"
   ]
  },
  {
   "cell_type": "code",
   "execution_count": null,
   "id": "3f414046",
   "metadata": {},
   "outputs": [],
   "source": [
    "del(a)"
   ]
  },
  {
   "cell_type": "code",
   "execution_count": null,
   "id": "f01a6313",
   "metadata": {},
   "outputs": [],
   "source": [
    "Container(content='a')"
   ]
  },
  {
   "cell_type": "code",
   "execution_count": null,
   "id": "be96799f",
   "metadata": {},
   "outputs": [],
   "source": [
    "Container(content='b')"
   ]
  },
  {
   "cell_type": "code",
   "execution_count": null,
   "id": "4b56a3f7",
   "metadata": {},
   "outputs": [],
   "source": [
    "from analink.models import Choice, ChoiceType\n",
    "from analink.parser.knots import parse_knots"
   ]
  },
  {
   "cell_type": "code",
   "execution_count": null,
   "id": "c152c9ef",
   "metadata": {},
   "outputs": [],
   "source": [
    "ink_code = \"\"\"\n",
    "\"What's that?\" my master asked.\n",
    "*\t\"I am somewhat tired[.\"],\" I repeated.\n",
    "\t\"Really,\" he responded. \"How deleterious.\"\n",
    "*\t\"Nothing, Monsieur!\"[] I replied.\n",
    "\t\"Very good, then.\"\n",
    "*  \"I said, this journey is appalling[.\"] and I want no more of it.\"\n",
    "\t\"Ah,\" he replied, not unkindly. \"I see you are feeling frustrated. Tomorrow, things will improve.\"\n",
    "\"\"\""
   ]
  },
  {
   "cell_type": "code",
   "execution_count": null,
   "id": "8ecb10e9",
   "metadata": {},
   "outputs": [],
   "source": [
    "parse_knots(ink_code)"
   ]
  },
  {
   "cell_type": "code",
   "execution_count": null,
   "id": "0d5dfaad",
   "metadata": {},
   "outputs": [],
   "source": [
    "def count_leading_chars(line: str, char: str) -> int:\n",
    "    \"\"\"Count leading characters (for nesting level)\"\"\"\n",
    "    count = 0\n",
    "    for c in line:\n",
    "        if c == char:\n",
    "            count += 1\n",
    "        elif c == \" \" or c == \"\\t\":\n",
    "            continue\n",
    "        else:\n",
    "            break\n",
    "    return count"
   ]
  },
  {
   "cell_type": "code",
   "execution_count": null,
   "id": "9b7b9af8",
   "metadata": {},
   "outputs": [],
   "source": [
    "lines = ink_code.split(\"\\n\")"
   ]
  },
  {
   "cell_type": "code",
   "execution_count": null,
   "id": "bec8f7a4",
   "metadata": {},
   "outputs": [],
   "source": []
  },
  {
   "cell_type": "code",
   "execution_count": null,
   "id": "977954b4",
   "metadata": {},
   "outputs": [],
   "source": [
    "def parse_line(line: str):\n",
    "    # check how many leading character\n",
    "    only_once_choice = count_leading_chars(line, \"*\")\n",
    "    sticky_choice = count_leading_chars(line, \"+\")\n",
    "    weave = count_leading_chars(line, \"-\")\n",
    "    knot_stitches = count_leading_chars(line, \"=\")\n",
    "    diverts = count_leading_chars(line, \"->\")\n",
    "    return only_once_choice, sticky_choice, weave, knot_stitches, diverts"
   ]
  },
  {
   "cell_type": "code",
   "execution_count": null,
   "id": "20242901",
   "metadata": {},
   "outputs": [],
   "source": [
    "import re"
   ]
  },
  {
   "cell_type": "code",
   "execution_count": null,
   "id": "326fe200",
   "metadata": {},
   "outputs": [],
   "source": [
    "def find_bracket_patterns(text):\n",
    "    # Pattern explanation:\n",
    "    # (?<!\\\\) - negative lookbehind: not preceded by backslash\n",
    "    # \\[ - literal opening bracket\n",
    "    # ([^\\\\]*(?:\\\\.[^\\\\]*)*) - content that handles escaped characters properly\n",
    "    # \\] - literal closing bracket\n",
    "    # (?<!\\\\) - negative lookbehind: closing bracket not preceded by backslash\n",
    "\n",
    "    pattern = r\"(?<!\\\\)\\[([^\\\\]*(?:\\\\.[^\\\\]*)*)\\](?<!\\\\)\"\n",
    "\n",
    "    matches = re.findall(pattern, text)\n",
    "    return matches\n",
    "\n",
    "\n"
   ]
  },
  {
   "cell_type": "code",
   "execution_count": null,
   "id": "e2cc2b70",
   "metadata": {},
   "outputs": [],
   "source": []
  },
  {
   "cell_type": "code",
   "execution_count": null,
   "id": "b5b74ff0",
   "metadata": {},
   "outputs": [],
   "source": [
    "lines_list = lines\n",
    "i = 0\n",
    "choices=[]\n",
    "while i < len(lines_list):\n",
    "    line = lines_list[i]\n",
    "    stripped = line.strip()\n",
    "    if count_leading_chars(stripped, \"*\") > 0:\n",
    "        line_number = i\n",
    "        choice_buffer = [line.lstrip(\"*\").strip()]\n",
    "        i += 1\n",
    "        while i < len(lines_list):\n",
    "            line = lines_list[i]\n",
    "            stripped = line.strip()\n",
    "            only_once_choice, sticky_choice, weave, knot_stitches, diverts = parse_line(\n",
    "                stripped\n",
    "            )\n",
    "            if count_leading_chars(stripped, \"*\") == 0:\n",
    "                choice_buffer.append(stripped)\n",
    "                i += 1\n",
    "            else:\n",
    "                # Don't increment i here - we want to process this line in the outer loop\n",
    "                break\n",
    "        # print(choice_buffer)\n",
    "        choices.append(parse_only_once_choice(choice_buffer, line_number))\n",
    "    else:\n",
    "        i += 1"
   ]
  },
  {
   "cell_type": "code",
   "execution_count": null,
   "id": "70b38efe",
   "metadata": {},
   "outputs": [],
   "source": [
    "choices"
   ]
  },
  {
   "cell_type": "code",
   "execution_count": null,
   "id": "26415751",
   "metadata": {},
   "outputs": [],
   "source": [
    "lines_generator = enumerate(lines)"
   ]
  },
  {
   "cell_type": "code",
   "execution_count": null,
   "id": "1ff707b8",
   "metadata": {},
   "outputs": [],
   "source": [
    "lines_list = lines\n",
    "i = 0\n",
    "while i < len(lines_list):\n",
    "    line = lines_list[i]\n",
    "    stripped = line.strip()\n",
    "    only_once_choice, sticky_choice, weave, knot_stitches, diverts = parse_line(\n",
    "        stripped\n",
    "    )\n",
    "\n",
    "    if knot_stitches == 1:\n",
    "        # TODO : parse_stitches(stripped?)\n",
    "        i += 1\n",
    "        continue\n",
    "    elif knot_stitches >= 2:\n",
    "        # TODO : parse_knot(?)\n",
    "        i += 1\n",
    "        continue\n",
    "    elif weave > 0:\n",
    "        # TODO : parse_weave(?)\n",
    "        i += 1\n",
    "        continue\n",
    "    elif sticky_choice > 0:\n",
    "        # TODO : parse_sticky_choice(?)\n",
    "        i += 1\n",
    "        continue\n",
    "    elif only_once_choice > 0:\n",
    "        choice_buffer = line\n",
    "        i += 1\n",
    "        while i < len(lines_list):\n",
    "            line = lines_list[i]\n",
    "            stripped = line.strip()\n",
    "            only_once_choice, sticky_choice, weave, knot_stitches, diverts = parse_line(\n",
    "                stripped\n",
    "            )\n",
    "            if only_once_choice == 0:\n",
    "                choice_buffer += \"\\n\" + line\n",
    "                i += 1\n",
    "            else:\n",
    "                # Don't increment i here - we want to process this line in the outer loop\n",
    "                break\n",
    "        parse_only_once_choice(choice_buffer)\n",
    "        print(choice_buffer)\n",
    "        continue\n",
    "    elif diverts > 0:\n",
    "        # TODO : parse_diverts(?)\n",
    "        i += 1\n",
    "        continue\n",
    "    else:\n",
    "        i += 1\n",
    "        continue"
   ]
  },
  {
   "cell_type": "code",
   "execution_count": null,
   "id": "9c622a3f",
   "metadata": {},
   "outputs": [],
   "source": []
  },
  {
   "cell_type": "code",
   "execution_count": null,
   "id": "a0376320",
   "metadata": {},
   "outputs": [],
   "source": []
  },
  {
   "cell_type": "code",
   "execution_count": null,
   "id": "676fd5ed",
   "metadata": {},
   "outputs": [],
   "source": []
  }
 ],
 "metadata": {
  "kernelspec": {
   "display_name": "analink-GlLIutIp-py3.13",
   "language": "python",
   "name": "python3"
  },
  "language_info": {
   "codemirror_mode": {
    "name": "ipython",
    "version": 3
   },
   "file_extension": ".py",
   "mimetype": "text/x-python",
   "name": "python",
   "nbconvert_exporter": "python",
   "pygments_lexer": "ipython3",
   "version": "3.13.2"
  }
 },
 "nbformat": 4,
 "nbformat_minor": 5
}