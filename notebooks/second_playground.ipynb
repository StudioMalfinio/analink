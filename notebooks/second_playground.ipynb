{
 "cells": [
  {
   "cell_type": "markdown",
   "id": "5d683bf6",
   "metadata": {},
   "source": [
    "This file is just here to play and prepare the test, do not care about the content"
   ]
  },
  {
   "cell_type": "code",
   "execution_count": 1,
   "id": "7cfd73f3",
   "metadata": {},
   "outputs": [],
   "source": [
    "from analink.parser.base import Container"
   ]
  },
  {
   "cell_type": "code",
   "execution_count": 7,
   "id": "cea8f42f",
   "metadata": {},
   "outputs": [],
   "source": [
    "a=Container(content=\"a\")"
   ]
  },
  {
   "cell_type": "code",
   "execution_count": 8,
   "id": "42fa687c",
   "metadata": {},
   "outputs": [
    {
     "data": {
      "text/plain": [
       "Container(content='a', children=[], item_id=2)"
      ]
     },
     "execution_count": 8,
     "metadata": {},
     "output_type": "execute_result"
    }
   ],
   "source": [
    "a"
   ]
  },
  {
   "cell_type": "code",
   "execution_count": 4,
   "id": "757a9a8d",
   "metadata": {},
   "outputs": [
    {
     "data": {
      "text/plain": [
       "Container(content='a', children=[], item_id=1)"
      ]
     },
     "execution_count": 4,
     "metadata": {},
     "output_type": "execute_result"
    }
   ],
   "source": [
    "a"
   ]
  },
  {
   "cell_type": "code",
   "execution_count": 5,
   "id": "3f414046",
   "metadata": {},
   "outputs": [],
   "source": [
    "del(a)"
   ]
  },
  {
   "cell_type": "code",
   "execution_count": 3,
   "id": "f01a6313",
   "metadata": {},
   "outputs": [
    {
     "data": {
      "text/plain": [
       "Container(id=2, content='a', children=[])"
      ]
     },
     "execution_count": 3,
     "metadata": {},
     "output_type": "execute_result"
    }
   ],
   "source": [
    "Container(content='a')"
   ]
  },
  {
   "cell_type": "code",
   "execution_count": 4,
   "id": "be96799f",
   "metadata": {},
   "outputs": [
    {
     "data": {
      "text/plain": [
       "Container(id=3, content='b', children=[])"
      ]
     },
     "execution_count": 4,
     "metadata": {},
     "output_type": "execute_result"
    }
   ],
   "source": [
    "Container(content='b')"
   ]
  },
  {
   "cell_type": "code",
   "execution_count": 1,
   "id": "4b56a3f7",
   "metadata": {},
   "outputs": [],
   "source": [
    "from analink.models import Choice, ChoiceType\n",
    "from analink.parser.knots import parse_knots"
   ]
  },
  {
   "cell_type": "code",
   "execution_count": 2,
   "id": "c152c9ef",
   "metadata": {},
   "outputs": [],
   "source": [
    "ink_code = \"\"\"\n",
    "\"What's that?\" my master asked.\n",
    "*\t\"I am somewhat tired[.\"],\" I repeated.\n",
    "\t\"Really,\" he responded. \"How deleterious.\"\n",
    "*\t\"Nothing, Monsieur!\"[] I replied.\n",
    "\t\"Very good, then.\"\n",
    "*  \"I said, this journey is appalling[.\"] and I want no more of it.\"\n",
    "\t\"Ah,\" he replied, not unkindly. \"I see you are feeling frustrated. Tomorrow, things will improve.\"\n",
    "\"\"\""
   ]
  },
  {
   "cell_type": "code",
   "execution_count": 3,
   "id": "8ecb10e9",
   "metadata": {},
   "outputs": [
    {
     "data": {
      "text/plain": [
       "Knot(header='\\n\"What\\'s that?\" my master asked.\\n', choices=[Choice(display_text='\"I am somewhat tired.\"', text_after_choice='\"I am somewhat tired,\" I repeated.\\n\"Really,\" he responded. \"How deleterious.\"', target=None, condition=None, line_number=0, sticky=False), Choice(display_text='\"Nothing, Monsieur!\"', text_after_choice='\"Nothing, Monsieur!\" I replied.\\n\"Very good, then.\"', target=None, condition=None, line_number=2, sticky=False), Choice(display_text='\"I said, this journey is appalling.\"', text_after_choice='\"I said, this journey is appalling and I want no more of it.\"\\n\"Ah,\" he replied, not unkindly. \"I see you are feeling frustrated. Tomorrow, things will improve.\"\\n', target=None, condition=None, line_number=4, sticky=False)])"
      ]
     },
     "execution_count": 3,
     "metadata": {},
     "output_type": "execute_result"
    }
   ],
   "source": [
    "parse_knots(ink_code)"
   ]
  },
  {
   "cell_type": "code",
   "execution_count": 4,
   "id": "0d5dfaad",
   "metadata": {},
   "outputs": [],
   "source": [
    "def count_leading_chars(line: str, char: str) -> int:\n",
    "    \"\"\"Count leading characters (for nesting level)\"\"\"\n",
    "    count = 0\n",
    "    for c in line:\n",
    "        if c == char:\n",
    "            count += 1\n",
    "        elif c == \" \" or c == \"\\t\":\n",
    "            continue\n",
    "        else:\n",
    "            break\n",
    "    return count"
   ]
  },
  {
   "cell_type": "code",
   "execution_count": 5,
   "id": "9b7b9af8",
   "metadata": {},
   "outputs": [],
   "source": [
    "lines = ink_code.split(\"\\n\")"
   ]
  },
  {
   "cell_type": "code",
   "execution_count": null,
   "id": "bec8f7a4",
   "metadata": {},
   "outputs": [],
   "source": []
  },
  {
   "cell_type": "code",
   "execution_count": 6,
   "id": "977954b4",
   "metadata": {},
   "outputs": [],
   "source": [
    "def parse_line(line: str):\n",
    "    # check how many leading character\n",
    "    only_once_choice = count_leading_chars(line, \"*\")\n",
    "    sticky_choice = count_leading_chars(line, \"+\")\n",
    "    weave = count_leading_chars(line, \"-\")\n",
    "    knot_stitches = count_leading_chars(line, \"=\")\n",
    "    diverts = count_leading_chars(line, \"->\")\n",
    "    return only_once_choice, sticky_choice, weave, knot_stitches, diverts"
   ]
  },
  {
   "cell_type": "code",
   "execution_count": 7,
   "id": "20242901",
   "metadata": {},
   "outputs": [],
   "source": [
    "import re"
   ]
  },
  {
   "cell_type": "code",
   "execution_count": 8,
   "id": "326fe200",
   "metadata": {},
   "outputs": [],
   "source": [
    "def find_bracket_patterns(text):\n",
    "    # Pattern explanation:\n",
    "    # (?<!\\\\) - negative lookbehind: not preceded by backslash\n",
    "    # \\[ - literal opening bracket\n",
    "    # ([^\\\\]*(?:\\\\.[^\\\\]*)*) - content that handles escaped characters properly\n",
    "    # \\] - literal closing bracket\n",
    "    # (?<!\\\\) - negative lookbehind: closing bracket not preceded by backslash\n",
    "\n",
    "    pattern = r\"(?<!\\\\)\\[([^\\\\]*(?:\\\\.[^\\\\]*)*)\\](?<!\\\\)\"\n",
    "\n",
    "    matches = re.findall(pattern, text)\n",
    "    return matches\n",
    "\n",
    "\n"
   ]
  },
  {
   "cell_type": "code",
   "execution_count": null,
   "id": "e2cc2b70",
   "metadata": {},
   "outputs": [],
   "source": []
  },
  {
   "cell_type": "code",
   "execution_count": 9,
   "id": "b5b74ff0",
   "metadata": {},
   "outputs": [
    {
     "ename": "NameError",
     "evalue": "name 'parse_only_once_choice' is not defined",
     "output_type": "error",
     "traceback": [
      "\u001b[0;31m---------------------------------------------------------------------------\u001b[0m",
      "\u001b[0;31mNameError\u001b[0m                                 Traceback (most recent call last)",
      "Cell \u001b[0;32mIn[9], line 24\u001b[0m\n\u001b[1;32m     22\u001b[0m             \u001b[38;5;28;01mbreak\u001b[39;00m\n\u001b[1;32m     23\u001b[0m     \u001b[38;5;66;03m# print(choice_buffer)\u001b[39;00m\n\u001b[0;32m---> 24\u001b[0m     choices\u001b[38;5;241m.\u001b[39mappend(\u001b[43mparse_only_once_choice\u001b[49m(choice_buffer, line_number))\n\u001b[1;32m     25\u001b[0m \u001b[38;5;28;01melse\u001b[39;00m:\n\u001b[1;32m     26\u001b[0m     i \u001b[38;5;241m+\u001b[39m\u001b[38;5;241m=\u001b[39m \u001b[38;5;241m1\u001b[39m\n",
      "\u001b[0;31mNameError\u001b[0m: name 'parse_only_once_choice' is not defined"
     ]
    }
   ],
   "source": [
    "lines_list = lines\n",
    "i = 0\n",
    "choices=[]\n",
    "while i < len(lines_list):\n",
    "    line = lines_list[i]\n",
    "    stripped = line.strip()\n",
    "    if count_leading_chars(stripped, \"*\") > 0:\n",
    "        line_number = i\n",
    "        choice_buffer = [line.lstrip(\"*\").strip()]\n",
    "        i += 1\n",
    "        while i < len(lines_list):\n",
    "            line = lines_list[i]\n",
    "            stripped = line.strip()\n",
    "            only_once_choice, sticky_choice, weave, knot_stitches, diverts = parse_line(\n",
    "                stripped\n",
    "            )\n",
    "            if count_leading_chars(stripped, \"*\") == 0:\n",
    "                choice_buffer.append(stripped)\n",
    "                i += 1\n",
    "            else:\n",
    "                # Don't increment i here - we want to process this line in the outer loop\n",
    "                break\n",
    "        # print(choice_buffer)\n",
    "        choices.append(parse_only_once_choice(choice_buffer, line_number))\n",
    "    else:\n",
    "        i += 1"
   ]
  },
  {
   "cell_type": "code",
   "execution_count": null,
   "id": "70b38efe",
   "metadata": {},
   "outputs": [],
   "source": [
    "choices"
   ]
  },
  {
   "cell_type": "code",
   "execution_count": null,
   "id": "26415751",
   "metadata": {},
   "outputs": [],
   "source": [
    "lines_generator = enumerate(lines)"
   ]
  },
  {
   "cell_type": "code",
   "execution_count": null,
   "id": "1ff707b8",
   "metadata": {},
   "outputs": [],
   "source": [
    "lines_list = lines\n",
    "i = 0\n",
    "while i < len(lines_list):\n",
    "    line = lines_list[i]\n",
    "    stripped = line.strip()\n",
    "    only_once_choice, sticky_choice, weave, knot_stitches, diverts = parse_line(\n",
    "        stripped\n",
    "    )\n",
    "\n",
    "    if knot_stitches == 1:\n",
    "        # TODO : parse_stitches(stripped?)\n",
    "        i += 1\n",
    "        continue\n",
    "    elif knot_stitches >= 2:\n",
    "        # TODO : parse_knot(?)\n",
    "        i += 1\n",
    "        continue\n",
    "    elif weave > 0:\n",
    "        # TODO : parse_weave(?)\n",
    "        i += 1\n",
    "        continue\n",
    "    elif sticky_choice > 0:\n",
    "        # TODO : parse_sticky_choice(?)\n",
    "        i += 1\n",
    "        continue\n",
    "    elif only_once_choice > 0:\n",
    "        choice_buffer = line\n",
    "        i += 1\n",
    "        while i < len(lines_list):\n",
    "            line = lines_list[i]\n",
    "            stripped = line.strip()\n",
    "            only_once_choice, sticky_choice, weave, knot_stitches, diverts = parse_line(\n",
    "                stripped\n",
    "            )\n",
    "            if only_once_choice == 0:\n",
    "                choice_buffer += \"\\n\" + line\n",
    "                i += 1\n",
    "            else:\n",
    "                # Don't increment i here - we want to process this line in the outer loop\n",
    "                break\n",
    "        parse_only_once_choice(choice_buffer)\n",
    "        print(choice_buffer)\n",
    "        continue\n",
    "    elif diverts > 0:\n",
    "        # TODO : parse_diverts(?)\n",
    "        i += 1\n",
    "        continue\n",
    "    else:\n",
    "        i += 1\n",
    "        continue"
   ]
  },
  {
   "cell_type": "code",
   "execution_count": null,
   "id": "9c622a3f",
   "metadata": {},
   "outputs": [],
   "source": []
  },
  {
   "cell_type": "code",
   "execution_count": null,
   "id": "a0376320",
   "metadata": {},
   "outputs": [],
   "source": []
  },
  {
   "cell_type": "code",
   "execution_count": null,
   "id": "676fd5ed",
   "metadata": {},
   "outputs": [],
   "source": []
  }
 ],
 "metadata": {
  "kernelspec": {
   "display_name": "analink-GlLIutIp-py3.13",
   "language": "python",
   "name": "python3"
  },
  "language_info": {
   "codemirror_mode": {
    "name": "ipython",
    "version": 3
   },
   "file_extension": ".py",
   "mimetype": "text/x-python",
   "name": "python",
   "nbconvert_exporter": "python",
   "pygments_lexer": "ipython3",
   "version": "3.13.2"
  }
 },
 "nbformat": 4,
 "nbformat_minor": 5
}
