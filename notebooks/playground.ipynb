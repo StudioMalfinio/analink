{
 "cells": [
  {
   "cell_type": "code",
   "execution_count": 1,
   "id": "7eabce8e",
   "metadata": {},
   "outputs": [],
   "source": [
    "from pathlib import Path"
   ]
  },
  {
   "cell_type": "code",
   "execution_count": 2,
   "id": "a89df52d",
   "metadata": {},
   "outputs": [],
   "source": [
    "TEST_DATA_PATH = Path(\"test_data/the_intercept.ink\")"
   ]
  },
  {
   "cell_type": "code",
   "execution_count": 3,
   "id": "d88aeaee",
   "metadata": {},
   "outputs": [],
   "source": [
    "import re\n",
    "import sys\n",
    "from collections import defaultdict, deque\n",
    "from typing import Set, List, Dict, Optional, Tuple, Any, Union\n",
    "import argparse\n",
    "import copy\n",
    "from pydantic import BaseModel, Field, validator, root_validator\n",
    "from enum import Enum\n"
   ]
  },
  {
   "cell_type": "code",
   "execution_count": 4,
   "id": "20410608",
   "metadata": {},
   "outputs": [],
   "source": [
    "class ChoiceType(str, Enum):\n",
    "    \"\"\"Enum for choice types\"\"\"\n",
    "    STICKY = \"+\"  # Reusable choices\n",
    "    REGULAR = \"*\"  # Consumed after use\n",
    "\n",
    "class Choice(BaseModel):\n",
    "    \"\"\"Represents a choice in the Ink script\"\"\"\n",
    "    text: str = Field(..., description=\"The display text of the choice\")\n",
    "    target: str = Field(..., description=\"The target knot name\")\n",
    "    condition: Optional[str] = Field(None, description=\"Condition for this choice to be available\")\n",
    "    line_number: int = Field(0, description=\"Line number in the source file\")\n",
    "    sticky: bool = Field(False, description=\"Whether this choice is reusable (+ choices)\")\n",
    "    \n",
    "    @property\n",
    "    def choice_type(self) -> ChoiceType:\n",
    "        \"\"\"Get the choice type as an enum\"\"\"\n",
    "        return ChoiceType.STICKY if self.sticky else ChoiceType.REGULAR\n",
    "    \n",
    "    def __str__(self) -> str:\n",
    "        sticky_marker = \"+\" if self.sticky else \"*\"\n",
    "        condition_str = f\" {{{self.condition}}}\" if self.condition else \"\"\n",
    "        return f\"{sticky_marker}{condition_str} [{self.text}] -> {self.target}\"\n",
    "    "
   ]
  },
  {
   "cell_type": "code",
   "execution_count": null,
   "id": "0992612f",
   "metadata": {},
   "outputs": [],
   "source": []
  }
 ],
 "metadata": {
  "kernelspec": {
   "display_name": "analink-GlLIutIp-py3.13",
   "language": "python",
   "name": "python3"
  },
  "language_info": {
   "codemirror_mode": {
    "name": "ipython",
    "version": 3
   },
   "file_extension": ".py",
   "mimetype": "text/x-python",
   "name": "python",
   "nbconvert_exporter": "python",
   "pygments_lexer": "ipython3",
   "version": "3.13.2"
  }
 },
 "nbformat": 4,
 "nbformat_minor": 5
}
