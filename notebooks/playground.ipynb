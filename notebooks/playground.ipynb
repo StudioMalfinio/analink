{
 "cells": [
  {
   "cell_type": "code",
   "execution_count": null,
   "id": "7eabce8e",
   "metadata": {},
   "outputs": [],
   "source": [
    "from pathlib import Path\n",
    "from analink.parser import InkParser"
   ]
  },
  {
   "cell_type": "code",
   "execution_count": null,
   "id": "a89df52d",
   "metadata": {},
   "outputs": [],
   "source": [
    "TEST_DATA_PATH = Path(\"test_data/the_intercept.ink\")"
   ]
  },
  {
   "cell_type": "code",
   "execution_count": null,
   "id": "cbdb84a6",
   "metadata": {},
   "outputs": [],
   "source": [
    "the_intercept_script = InkParser.parse_file(TEST_DATA_PATH)"
   ]
  },
  {
   "cell_type": "code",
   "execution_count": null,
   "id": "f4acc544",
   "metadata": {},
   "outputs": [],
   "source": [
    "the_intercept_script.knots[\"start\"] # this is not working properly when things are so nested..."
   ]
  },
  {
   "cell_type": "code",
   "execution_count": null,
   "id": "8e5ffabe",
   "metadata": {},
   "outputs": [],
   "source": [
    "the_intercept_script.knots[\"start\"].stitches[\"waited\"].choices"
   ]
  },
  {
   "cell_type": "code",
   "execution_count": null,
   "id": "ec250545",
   "metadata": {},
   "outputs": [],
   "source": [
    "the_intercept_script.knots"
   ]
  },
  {
   "cell_type": "code",
   "execution_count": null,
   "id": "4583e8d8",
   "metadata": {},
   "outputs": [],
   "source": [
    "# The start of a knot is indicated by two or more equals signs, as follows."
   ]
  },
  {
   "cell_type": "code",
   "execution_count": null,
   "id": "292160ff",
   "metadata": {},
   "outputs": [],
   "source": [
    "# Knots can include sub-sections called \"stitches\". These are marked using a single equals sign."
   ]
  }
 ],
 "metadata": {
  "kernelspec": {
   "display_name": "analink-GlLIutIp-py3.13",
   "language": "python",
   "name": "python3"
  },
  "language_info": {
   "codemirror_mode": {
    "name": "ipython",
    "version": 3
   },
   "file_extension": ".py",
   "mimetype": "text/x-python",
   "name": "python",
   "nbconvert_exporter": "python",
   "pygments_lexer": "ipython3",
   "version": "3.13.2"
  }
 },
 "nbformat": 4,
 "nbformat_minor": 5
}
